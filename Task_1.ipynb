{
 "cells": [
  {
   "cell_type": "code",
   "execution_count": 1,
   "id": "4d6fba54-706d-4bb8-baf3-07801534c78b",
   "metadata": {},
   "outputs": [],
   "source": [
    "from urllib.request import Request, urlopen\n",
    "import re\n",
    "from bs4 import BeautifulSoup\n",
    "import spacy\n",
    "import requests"
   ]
  },
  {
   "cell_type": "markdown",
   "id": "75620cae-7095-4fa1-a106-51b41fb5f8ce",
   "metadata": {},
   "source": [
    "# Web Scrapping"
   ]
  },
  {
   "cell_type": "code",
   "execution_count": 2,
   "id": "d269ec7e-2cae-4b56-8344-1bec1ac39605",
   "metadata": {},
   "outputs": [],
   "source": [
    "def get_google_news_results(query):\n",
    "    headers = {\n",
    "        'User-Agent': 'Mozilla/5.0 Chrome/91.0.4472.124 Safari/537.36'}\n",
    "    url = f'https://www.google.com/search?q={query}&tbm=nws'\n",
    "    response = Request(url, headers=headers)\n",
    "    webpage = urlopen(response).read()\n",
    "    return webpage\n",
    "\n",
    "def parse_google_news_results(company_name, webpage):\n",
    "    articles = []\n",
    "    with requests.Session() as c:\n",
    "        soup = BeautifulSoup(webpage, 'html5lib')\n",
    "        for item in soup.find_all('div', class_='Gx5Zad fP1Qef xpd EtOod pkphOe'):\n",
    "            link = item.find('a', href=True)['href']\n",
    "            link = re.search(r'url\\?q=(.+?)&', link).group(1)\n",
    "            articles.append({\n",
    "                'link': link,\n",
    "                'language': 'de'\n",
    "            })\n",
    "    return articles\n",
    "\n",
    "def scrape_article_content(url):\n",
    "    try:\n",
    "        headers = {\n",
    "            'User-Agent': 'Mozilla/5.0 Chrome/91.0.4472.124 Safari/537.36'}\n",
    "        response = requests.get(url, headers=headers)\n",
    "        soup = BeautifulSoup(response.content, 'html.parser')\n",
    "        paragraphs = soup.find_all('p')\n",
    "        content = ' '.join([para.get_text() for para in paragraphs])\n",
    "        return content\n",
    "    except Exception as e:\n",
    "        print(f\"Failed to scrape {url}: {e}\")\n",
    "        return None\n",
    "\n",
    "\n",
    "\n",
    "company_names = [\"ENVIRIA+Energy+Holding+GmbH\", \"ENREGO+Energy+GmbH\", \"HIH+Invest+Real+Estate+Austria+GmbH\", \"Merkle+Germany+GmbH\"]\n",
    "\n",
    "company_dict = {}\n",
    "for company_name in company_names:\n",
    "    query = f\"{company_name}+solarpark+investieren\"\n",
    "    webpage = get_google_news_results(query)\n",
    "    company_articles = parse_google_news_results(company_name, webpage)\n",
    "    for article in company_articles:\n",
    "        content = scrape_article_content(article['link'])\n",
    "        article['content'] = content\n",
    "    company_dict[company_name] = company_articles"
   ]
  },
  {
   "cell_type": "markdown",
   "id": "aab63fc5-cc31-4cbe-865e-10809712f1e0",
   "metadata": {},
   "source": [
    "#### We can also use pygooglenews instead of all this"
   ]
  },
  {
   "cell_type": "markdown",
   "id": "d684559a-d600-4200-ba62-273eae7f3cf0",
   "metadata": {},
   "source": [
    "# Using NLP model to extract the relavant informations"
   ]
  },
  {
   "cell_type": "code",
   "execution_count": 6,
   "id": "fa66f184-96b9-473c-9828-d92d0342bb71",
   "metadata": {},
   "outputs": [
    {
     "name": "stdout",
     "output_type": "stream",
     "text": [
      "Company: ENVIRIA+Energy+Holding+GmbH, Investment Details: {'equity_checks': 'N/A', 'megawatts': 'N/A', 'solarpark_investment': 'Present', 'sentiment': 'Positive'}, Link: https://www.solarserver.de/2023/09/22/neuer-vorstand-leitet-bundesverband-neue-energiewirtschaft-bne/\n",
      "Company: XYZ, Investment Details: {'equity_checks': 'N/A', 'megawatts': 'N/A', 'solarpark_investment': 'Present', 'sentiment': 'Neutral'}, Link: xyz.abc\n"
     ]
    }
   ],
   "source": [
    "# Adding a dummy company to test the logic of the function\n",
    "company_dict[\"XYZ\"] = [{\n",
    "    'link': 'xyz.abc',\n",
    "    'content': \"\"\"\n",
    "                Das Unternehmen ABC gab kürzlich eine bedeutende Investition \n",
    "                in einen neuen Solarpark bekannt, der voraussichtlich 150 Megawatt (MW) \n",
    "                erneuerbare Energie erzeugen wird. Dieses 120-Millionen-Dollar-Projekt \n",
    "                erstreckt sich über eine Fläche von 500 Hektar und wird voraussichtlich \n",
    "                jährlich etwa 45.000 Haushalte mit Strom versorgen. Der Solarpark wird über 600.000 \n",
    "                Solarmodule verfügen und modernste Photovoltaiktechnologie nutzen, um die Effizienz zu \n",
    "                maximieren. Das Unternehmen ABC geht davon aus, dass der Solarpark bis Ende 2025 die \n",
    "                Kohlenstoffemissionen um 200.000 Tonnen pro Jahr reduzieren wird, was seinem Engagement \n",
    "                für Nachhaltigkeit entspricht und einen wesentlichen Beitrag zu den regionalen Zielen für \n",
    "                saubere Energie leistet. Dieser strategische Schritt unterstreicht das Engagement von ABC,\n",
    "                im Bereich der erneuerbaren Energien führend zu sein und eine umweltfreundlichere Zukunft zu\n",
    "                fördern.\"\"\",\n",
    "    'language': 'de'\n",
    "}]\n",
    "\n",
    "nlp = spacy.load('de_core_news_sm')\n",
    "\n",
    "def extract_investment_details(company_name, text, nlp):\n",
    "    doc = nlp(text)\n",
    "    investments = {\"equity_checks\": [], \"megawatts\": [], \"solarpark_investment\": [], \"sentiment\": \"\"}\n",
    "\n",
    "    # Extract entities\n",
    "    for ent in doc.ents:\n",
    "        if ent.label_ == \"MONEY\":\n",
    "            investments[\"equity_checks\"].append(ent.text)\n",
    "        if ent.label_ == \"QUANTITY\":\n",
    "            if \"MW\" in ent.text or \"megawatts\" in ent.text:\n",
    "                investments[\"megawatts\"].append(ent.text)\n",
    "        if \"solarpark\" in ent.text.lower() or \"solar park\" in ent.text.lower():\n",
    "            investments[\"solarpark_investment\"] = \"Present\"\n",
    "\n",
    "    investments[\"equity_checks\"] = \"N/A\" if len(investments[\"equity_checks\"]) == 0 else investments[\"equity_checks\"]\n",
    "    investments[\"megawatts\"] = \"N/A\" if len(investments[\"megawatts\"]) == 0 else investments[\"megawatts\"]\n",
    "    investments[\"solarpark_investment\"] = \"N/A\" if len(investments[\"solarpark_investment\"]) == 0 else investments[\"solarpark_investment\"]\n",
    "        \n",
    "        \n",
    "    \n",
    "    # Sentiment analysis. However, this provides very rough estimate.\n",
    "    # Alternatively, we can use RAG to ask in the specified text whether company has invested.\n",
    "    text_blob = TextBlob(text)\n",
    "    sentiment = text_blob.sentiment.polarity\n",
    "    if sentiment > 0:\n",
    "        investments[\"sentiment\"] = \"Positive\"\n",
    "    elif sentiment < 0:\n",
    "        investments[\"sentiment\"] = \"Negative\"\n",
    "    else:\n",
    "        investments[\"sentiment\"] = \"Neutral\"\n",
    "    \n",
    "    return investments\n",
    "\n",
    "for company_name in company_dict.keys():\n",
    "    for article in company_dict[company_name]:\n",
    "        content = article['content']\n",
    "        investment_details = extract_investment_details(company_name = company_name, text=content, nlp = nlp)\n",
    "        if investment_details['solarpark_investment'] == \"Present\":\n",
    "            print(f\"Company: {company_name}, Investment Details: {investment_details}, Link: {article['link']}\")"
   ]
  },
  {
   "cell_type": "code",
   "execution_count": null,
   "id": "a9e5e201-f64b-4c09-9044-0e3f3d92cbfb",
   "metadata": {},
   "outputs": [],
   "source": []
  }
 ],
 "metadata": {
  "kernelspec": {
   "display_name": "Python 3 (ipykernel)",
   "language": "python",
   "name": "python3"
  },
  "language_info": {
   "codemirror_mode": {
    "name": "ipython",
    "version": 3
   },
   "file_extension": ".py",
   "mimetype": "text/x-python",
   "name": "python",
   "nbconvert_exporter": "python",
   "pygments_lexer": "ipython3",
   "version": "3.11.5"
  }
 },
 "nbformat": 4,
 "nbformat_minor": 5
}
